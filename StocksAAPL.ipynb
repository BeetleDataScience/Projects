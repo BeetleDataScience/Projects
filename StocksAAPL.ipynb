{
 "cells": [
  {
   "cell_type": "markdown",
   "id": "a3d97bf6-fb71-4da2-a41d-10b4c2d8a249",
   "metadata": {},
   "source": [
    "# Stocks AAPL\n",
    "## Project using Python libraries"
   ]
  },
  {
   "cell_type": "markdown",
   "id": "fc5c01be-88d6-4037-9b08-b7ebc20b7181",
   "metadata": {},
   "source": [
    "You are a data scientist working for a hedge fund; **it's your job to determine any suspicious stock activity**. In this lab you will extract stock data using a Python library."
   ]
  },
  {
   "cell_type": "code",
   "execution_count": 5,
   "id": "e85f3e3b-3f9a-4449-a54e-78c83e00e202",
   "metadata": {},
   "outputs": [
    {
     "name": "stdout",
     "output_type": "stream",
     "text": [
      "Requirement already satisfied: yfinance in c:\\users\\user\\anaconda3\\lib\\site-packages (0.2.54)\n",
      "Requirement already satisfied: pandas>=1.3.0 in c:\\users\\user\\anaconda3\\lib\\site-packages (from yfinance) (2.2.3)\n",
      "Requirement already satisfied: numpy>=1.16.5 in c:\\users\\user\\anaconda3\\lib\\site-packages (from yfinance) (1.26.4)\n",
      "Requirement already satisfied: requests>=2.31 in c:\\users\\user\\anaconda3\\lib\\site-packages (from yfinance) (2.32.3)\n",
      "Requirement already satisfied: multitasking>=0.0.7 in c:\\users\\user\\anaconda3\\lib\\site-packages (from yfinance) (0.0.11)\n",
      "Requirement already satisfied: platformdirs>=2.0.0 in c:\\users\\user\\anaconda3\\lib\\site-packages (from yfinance) (3.10.0)\n",
      "Requirement already satisfied: pytz>=2022.5 in c:\\users\\user\\anaconda3\\lib\\site-packages (from yfinance) (2024.1)\n",
      "Requirement already satisfied: frozendict>=2.3.4 in c:\\users\\user\\anaconda3\\lib\\site-packages (from yfinance) (2.4.2)\n",
      "Requirement already satisfied: peewee>=3.16.2 in c:\\users\\user\\anaconda3\\lib\\site-packages (from yfinance) (3.17.9)\n",
      "Requirement already satisfied: beautifulsoup4>=4.11.1 in c:\\users\\user\\anaconda3\\lib\\site-packages (from yfinance) (4.13.3)\n",
      "Requirement already satisfied: soupsieve>1.2 in c:\\users\\user\\anaconda3\\lib\\site-packages (from beautifulsoup4>=4.11.1->yfinance) (2.5)\n",
      "Requirement already satisfied: typing-extensions>=4.0.0 in c:\\users\\user\\anaconda3\\lib\\site-packages (from beautifulsoup4>=4.11.1->yfinance) (4.11.0)\n",
      "Requirement already satisfied: python-dateutil>=2.8.2 in c:\\users\\user\\anaconda3\\lib\\site-packages (from pandas>=1.3.0->yfinance) (2.9.0.post0)\n",
      "Requirement already satisfied: tzdata>=2022.7 in c:\\users\\user\\anaconda3\\lib\\site-packages (from pandas>=1.3.0->yfinance) (2023.3)\n",
      "Requirement already satisfied: charset-normalizer<4,>=2 in c:\\users\\user\\anaconda3\\lib\\site-packages (from requests>=2.31->yfinance) (2.0.12)\n",
      "Requirement already satisfied: idna<4,>=2.5 in c:\\users\\user\\anaconda3\\lib\\site-packages (from requests>=2.31->yfinance) (3.7)\n",
      "Requirement already satisfied: urllib3<3,>=1.21.1 in c:\\users\\user\\anaconda3\\lib\\site-packages (from requests>=2.31->yfinance) (1.26.20)\n",
      "Requirement already satisfied: certifi>=2017.4.17 in c:\\users\\user\\anaconda3\\lib\\site-packages (from requests>=2.31->yfinance) (2025.1.31)\n",
      "Requirement already satisfied: six>=1.5 in c:\\users\\user\\anaconda3\\lib\\site-packages (from python-dateutil>=2.8.2->pandas>=1.3.0->yfinance) (1.16.0)\n",
      "Requirement already satisfied: matplotlib in c:\\users\\user\\anaconda3\\lib\\site-packages (3.9.2)\n",
      "Requirement already satisfied: contourpy>=1.0.1 in c:\\users\\user\\anaconda3\\lib\\site-packages (from matplotlib) (1.2.0)\n",
      "Requirement already satisfied: cycler>=0.10 in c:\\users\\user\\anaconda3\\lib\\site-packages (from matplotlib) (0.11.0)\n",
      "Requirement already satisfied: fonttools>=4.22.0 in c:\\users\\user\\anaconda3\\lib\\site-packages (from matplotlib) (4.51.0)\n",
      "Requirement already satisfied: kiwisolver>=1.3.1 in c:\\users\\user\\anaconda3\\lib\\site-packages (from matplotlib) (1.4.4)\n",
      "Requirement already satisfied: numpy>=1.23 in c:\\users\\user\\anaconda3\\lib\\site-packages (from matplotlib) (1.26.4)\n",
      "Requirement already satisfied: packaging>=20.0 in c:\\users\\user\\anaconda3\\lib\\site-packages (from matplotlib) (24.1)\n",
      "Requirement already satisfied: pillow>=8 in c:\\users\\user\\anaconda3\\lib\\site-packages (from matplotlib) (10.4.0)\n",
      "Requirement already satisfied: pyparsing>=2.3.1 in c:\\users\\user\\anaconda3\\lib\\site-packages (from matplotlib) (3.1.2)\n",
      "Requirement already satisfied: python-dateutil>=2.7 in c:\\users\\user\\anaconda3\\lib\\site-packages (from matplotlib) (2.9.0.post0)\n",
      "Requirement already satisfied: six>=1.5 in c:\\users\\user\\anaconda3\\lib\\site-packages (from python-dateutil>=2.7->matplotlib) (1.16.0)\n"
     ]
    }
   ],
   "source": [
    "# we will install a libraries needed, yfinance than it allows us to extract data for stocks and matplotlib for make make graphics\n",
    "!pip install yfinance\n",
    "!pip install matplotlib"
   ]
  },
  {
   "cell_type": "code",
   "execution_count": 9,
   "id": "3d45c444-4472-4914-941f-9562b9f2d24b",
   "metadata": {},
   "outputs": [],
   "source": [
    "import yfinance as yf\n",
    "import pandas as pd"
   ]
  },
  {
   "cell_type": "markdown",
   "id": "266236d1-b11c-40a3-8dbd-fa1a5c6675ed",
   "metadata": {},
   "source": [
    "### yfinance Library to Extract Stock Data\n",
    "Using the **Ticker** module we can create an object that will allow us to access functions to extract data. To do this we need to provide the ticker symbol for the stock, here the company is Apple and the ticker symbol is AAPL."
   ]
  },
  {
   "cell_type": "code",
   "execution_count": 13,
   "id": "d5924085-e4fe-45e0-9752-658b8b4ea6bf",
   "metadata": {},
   "outputs": [],
   "source": [
    "apple = yf.Ticker(\"AAPL\")"
   ]
  },
  {
   "cell_type": "markdown",
   "id": "5da87a84-4225-43cb-b54d-8b04af864f7c",
   "metadata": {},
   "source": [
    "### Stock info \n",
    "Using the attribute **info** we can extract information about the stock as a Python dictionary."
   ]
  },
  {
   "cell_type": "code",
   "execution_count": 26,
   "id": "bdbf90d5-63b6-4c2e-9ba5-fcb68e4b9747",
   "metadata": {},
   "outputs": [
    {
     "data": {
      "text/plain": [
       "{'address1': 'One Apple Park Way',\n",
       " 'city': 'Cupertino',\n",
       " 'state': 'CA',\n",
       " 'zip': '95014',\n",
       " 'country': 'United States',\n",
       " 'phone': '(408) 996-1010',\n",
       " 'website': 'https://www.apple.com',\n",
       " 'industry': 'Consumer Electronics',\n",
       " 'industryKey': 'consumer-electronics',\n",
       " 'industryDisp': 'Consumer Electronics',\n",
       " 'sector': 'Technology',\n",
       " 'sectorKey': 'technology',\n",
       " 'sectorDisp': 'Technology',\n",
       " 'longBusinessSummary': 'Apple Inc. designs, manufactures, and markets smartphones, personal computers, tablets, wearables, and accessories worldwide. The company offers iPhone, a line of smartphones; Mac, a line of personal computers; iPad, a line of multi-purpose tablets; and wearables, home, and accessories comprising AirPods, Apple TV, Apple Watch, Beats products, and HomePod. It also provides AppleCare support and cloud services; and operates various platforms, including the App Store that allow customers to discover and download applications and digital content, such as books, music, video, games, and podcasts, as well as advertising services include third-party licensing arrangements and its own advertising platforms. In addition, the company offers various subscription-based services, such as Apple Arcade, a game subscription service; Apple Fitness+, a personalized fitness service; Apple Music, which offers users a curated listening experience with on-demand radio stations; Apple News+, a subscription news and magazine service; Apple TV+, which offers exclusive original content; Apple Card, a co-branded credit card; and Apple Pay, a cashless payment service, as well as licenses its intellectual property. The company serves consumers, and small and mid-sized businesses; and the education, enterprise, and government markets. It distributes third-party applications for its products through the App Store. The company also sells its products through its retail and online stores, and direct sales force; and third-party cellular network carriers, wholesalers, retailers, and resellers. Apple Inc. was founded in 1976 and is headquartered in Cupertino, California.',\n",
       " 'fullTimeEmployees': 150000,\n",
       " 'companyOfficers': [{'maxAge': 1,\n",
       "   'name': 'Mr. Timothy D. Cook',\n",
       "   'age': 63,\n",
       "   'title': 'CEO & Director',\n",
       "   'yearBorn': 1961,\n",
       "   'fiscalYear': 2023,\n",
       "   'totalPay': 16239562,\n",
       "   'exercisedValue': 0,\n",
       "   'unexercisedValue': 0},\n",
       "  {'maxAge': 1,\n",
       "   'name': 'Mr. Jeffrey E. Williams',\n",
       "   'age': 60,\n",
       "   'title': 'Chief Operating Officer',\n",
       "   'yearBorn': 1964,\n",
       "   'fiscalYear': 2023,\n",
       "   'totalPay': 4637585,\n",
       "   'exercisedValue': 0,\n",
       "   'unexercisedValue': 0},\n",
       "  {'maxAge': 1,\n",
       "   'name': 'Ms. Katherine L. Adams',\n",
       "   'age': 60,\n",
       "   'title': 'Senior VP, General Counsel & Secretary',\n",
       "   'yearBorn': 1964,\n",
       "   'fiscalYear': 2023,\n",
       "   'totalPay': 4618064,\n",
       "   'exercisedValue': 0,\n",
       "   'unexercisedValue': 0},\n",
       "  {'maxAge': 1,\n",
       "   'name': \"Ms. Deirdre  O'Brien\",\n",
       "   'age': 57,\n",
       "   'title': 'Chief People Officer & Senior VP of Retail',\n",
       "   'yearBorn': 1967,\n",
       "   'fiscalYear': 2023,\n",
       "   'totalPay': 4613369,\n",
       "   'exercisedValue': 0,\n",
       "   'unexercisedValue': 0},\n",
       "  {'maxAge': 1,\n",
       "   'name': 'Mr. Kevan  Parekh',\n",
       "   'age': 52,\n",
       "   'title': 'Senior VP & CFO',\n",
       "   'yearBorn': 1972,\n",
       "   'fiscalYear': 2023,\n",
       "   'exercisedValue': 0,\n",
       "   'unexercisedValue': 0},\n",
       "  {'maxAge': 1,\n",
       "   'name': 'Mr. Chris  Kondo',\n",
       "   'title': 'Senior Director of Corporate Accounting',\n",
       "   'fiscalYear': 2023,\n",
       "   'exercisedValue': 0,\n",
       "   'unexercisedValue': 0},\n",
       "  {'maxAge': 1,\n",
       "   'name': 'Suhasini  Chandramouli',\n",
       "   'title': 'Director of Investor Relations',\n",
       "   'fiscalYear': 2023,\n",
       "   'exercisedValue': 0,\n",
       "   'unexercisedValue': 0},\n",
       "  {'maxAge': 1,\n",
       "   'name': 'Ms. Kristin Huguet Quayle',\n",
       "   'title': 'Vice President of Worldwide Communications',\n",
       "   'fiscalYear': 2023,\n",
       "   'exercisedValue': 0,\n",
       "   'unexercisedValue': 0},\n",
       "  {'maxAge': 1,\n",
       "   'name': 'Mr. Greg  Joswiak',\n",
       "   'title': 'Senior Vice President of Worldwide Marketing',\n",
       "   'fiscalYear': 2023,\n",
       "   'exercisedValue': 0,\n",
       "   'unexercisedValue': 0},\n",
       "  {'maxAge': 1,\n",
       "   'name': 'Mr. Adrian  Perica',\n",
       "   'age': 50,\n",
       "   'title': 'Vice President of Corporate Development',\n",
       "   'yearBorn': 1974,\n",
       "   'fiscalYear': 2023,\n",
       "   'exercisedValue': 0,\n",
       "   'unexercisedValue': 0}],\n",
       " 'auditRisk': 7,\n",
       " 'boardRisk': 1,\n",
       " 'compensationRisk': 3,\n",
       " 'shareHolderRightsRisk': 1,\n",
       " 'overallRisk': 1,\n",
       " 'governanceEpochDate': 1740787200,\n",
       " 'compensationAsOfEpochDate': 1703980800,\n",
       " 'irWebsite': 'http://investor.apple.com/',\n",
       " 'executiveTeam': [],\n",
       " 'maxAge': 86400,\n",
       " 'priceHint': 2,\n",
       " 'previousClose': 227.48,\n",
       " 'open': 223.8,\n",
       " 'dayLow': 217.45,\n",
       " 'dayHigh': 225.8399,\n",
       " 'regularMarketPreviousClose': 227.48,\n",
       " 'regularMarketOpen': 223.8,\n",
       " 'regularMarketDayLow': 217.45,\n",
       " 'regularMarketDayHigh': 225.8399,\n",
       " 'dividendRate': 1.0,\n",
       " 'dividendYield': 0.44,\n",
       " 'exDividendDate': 1739145600,\n",
       " 'payoutRatio': 0.1571,\n",
       " 'fiveYearAvgDividendYield': 0.59,\n",
       " 'beta': 1.178,\n",
       " 'trailingPE': 35.092857,\n",
       " 'forwardPE': 26.604692,\n",
       " 'volume': 57598999,\n",
       " 'regularMarketVolume': 57599133,\n",
       " 'averageVolume': 52016508,\n",
       " 'averageVolume10days': 50196760,\n",
       " 'averageDailyVolume10Day': 50196760,\n",
       " 'bid': 220.23,\n",
       " 'ask': 221.17,\n",
       " 'bidSize': 2,\n",
       " 'askSize': 4,\n",
       " 'marketCap': 3321161056256,\n",
       " 'fiftyTwoWeekLow': 164.08,\n",
       " 'fiftyTwoWeekHigh': 260.1,\n",
       " 'priceToSalesTrailing12Months': 8.391666,\n",
       " 'fiftyDayAverage': 238.2102,\n",
       " 'twoHundredDayAverage': 227.2683,\n",
       " 'trailingAnnualDividendRate': 0.99,\n",
       " 'trailingAnnualDividendYield': 0.0043520313,\n",
       " 'currency': 'USD',\n",
       " 'tradeable': False,\n",
       " 'enterpriseValue': 3460245225472,\n",
       " 'profitMargins': 0.24295,\n",
       " 'floatShares': 14998187904,\n",
       " 'sharesOutstanding': 15022100480,\n",
       " 'sharesShort': 127893856,\n",
       " 'sharesShortPriorMonth': 135189465,\n",
       " 'sharesShortPreviousMonthDate': 1736899200,\n",
       " 'dateShortInterest': 1739491200,\n",
       " 'sharesPercentSharesOut': 0.0085,\n",
       " 'heldPercentInsiders': 0.0207,\n",
       " 'heldPercentInstitutions': 0.62792,\n",
       " 'shortRatio': 2.22,\n",
       " 'shortPercentOfFloat': 0.0085,\n",
       " 'impliedSharesOutstanding': 15787400192,\n",
       " 'bookValue': 4.438,\n",
       " 'priceToBook': 49.816357,\n",
       " 'lastFiscalYearEnd': 1727481600,\n",
       " 'nextFiscalYearEnd': 1759017600,\n",
       " 'mostRecentQuarter': 1735344000,\n",
       " 'earningsQuarterlyGrowth': 0.071,\n",
       " 'netIncomeToCommon': 96150003712,\n",
       " 'trailingEps': 6.3,\n",
       " 'forwardEps': 8.31,\n",
       " 'lastSplitFactor': '4:1',\n",
       " 'lastSplitDate': 1598832000,\n",
       " 'enterpriseToRevenue': 8.743,\n",
       " 'enterpriseToEbitda': 25.193,\n",
       " '52WeekChange': 0.31316745,\n",
       " 'SandP52WeekChange': 0.0848825,\n",
       " 'lastDividendValue': 0.25,\n",
       " 'lastDividendDate': 1739145600,\n",
       " 'quoteType': 'EQUITY',\n",
       " 'currentPrice': 221.08,\n",
       " 'targetHighPrice': 325.0,\n",
       " 'targetLowPrice': 197.0,\n",
       " 'targetMeanPrice': 252.79564,\n",
       " 'targetMedianPrice': 260.0,\n",
       " 'recommendationMean': 2.04444,\n",
       " 'recommendationKey': 'buy',\n",
       " 'numberOfAnalystOpinions': 39,\n",
       " 'totalCash': 53774999552,\n",
       " 'totalCashPerShare': 3.58,\n",
       " 'ebitda': 137352003584,\n",
       " 'totalDebt': 96798998528,\n",
       " 'quickRatio': 0.783,\n",
       " 'currentRatio': 0.923,\n",
       " 'totalRevenue': 395760009216,\n",
       " 'debtToEquity': 145.0,\n",
       " 'revenuePerShare': 25.974,\n",
       " 'returnOnAssets': 0.22518998,\n",
       " 'returnOnEquity': 1.3652,\n",
       " 'grossProfits': 184102993920,\n",
       " 'freeCashflow': 93833871360,\n",
       " 'operatingCashflow': 108293996544,\n",
       " 'earningsGrowth': 0.101,\n",
       " 'revenueGrowth': 0.04,\n",
       " 'grossMargins': 0.46519002,\n",
       " 'ebitdaMargins': 0.34706002,\n",
       " 'operatingMargins': 0.34459,\n",
       " 'financialCurrency': 'USD',\n",
       " 'symbol': 'AAPL',\n",
       " 'language': 'en-US',\n",
       " 'region': 'US',\n",
       " 'typeDisp': 'Equity',\n",
       " 'quoteSourceName': 'Nasdaq Real Time Price',\n",
       " 'triggerable': True,\n",
       " 'customPriceAlertConfidence': 'HIGH',\n",
       " 'hasPrePostMarketData': True,\n",
       " 'firstTradeDateMilliseconds': 345479400000,\n",
       " 'regularMarketChange': -6.394989,\n",
       " 'regularMarketDayRange': '217.45 - 225.8399',\n",
       " 'shortName': 'Apple Inc.',\n",
       " 'longName': 'Apple Inc.',\n",
       " 'corporateActions': [],\n",
       " 'regularMarketTime': 1741722788,\n",
       " 'exchange': 'NMS',\n",
       " 'messageBoardId': 'finmb_24937',\n",
       " 'exchangeTimezoneName': 'America/New_York',\n",
       " 'exchangeTimezoneShortName': 'EDT',\n",
       " 'gmtOffSetMilliseconds': -14400000,\n",
       " 'market': 'us_market',\n",
       " 'esgPopulated': False,\n",
       " 'regularMarketChangePercent': -2.8112314,\n",
       " 'regularMarketPrice': 221.085,\n",
       " 'marketState': 'REGULAR',\n",
       " 'fullExchangeName': 'NasdaqGS',\n",
       " 'averageDailyVolume3Month': 52016508,\n",
       " 'fiftyTwoWeekLowChange': 57.005005,\n",
       " 'fiftyTwoWeekLowChangePercent': 0.347422,\n",
       " 'fiftyTwoWeekRange': '164.08 - 260.1',\n",
       " 'fiftyTwoWeekHighChange': -39.015,\n",
       " 'fiftyTwoWeekHighChangePercent': -0.14999999,\n",
       " 'fiftyTwoWeekChangePercent': 31.316746,\n",
       " 'dividendDate': 1739404800,\n",
       " 'earningsTimestamp': 1738272600,\n",
       " 'earningsTimestampStart': 1746010740,\n",
       " 'earningsTimestampEnd': 1746446400,\n",
       " 'earningsCallTimestampStart': 1738274400,\n",
       " 'earningsCallTimestampEnd': 1738274400,\n",
       " 'isEarningsDateEstimate': True,\n",
       " 'epsTrailingTwelveMonths': 6.3,\n",
       " 'epsForward': 8.31,\n",
       " 'epsCurrentYear': 7.33302,\n",
       " 'priceEpsCurrentYear': 30.149242,\n",
       " 'fiftyDayAverageChange': -17.125198,\n",
       " 'fiftyDayAverageChangePercent': -0.07189112,\n",
       " 'twoHundredDayAverageChange': -6.1832886,\n",
       " 'twoHundredDayAverageChangePercent': -0.027207,\n",
       " 'sourceInterval': 15,\n",
       " 'exchangeDataDelayedBy': 0,\n",
       " 'averageAnalystRating': '2.0 - Buy',\n",
       " 'cryptoTradeable': False,\n",
       " 'displayName': 'Apple',\n",
       " 'trailingPegRatio': 2.1069}"
      ]
     },
     "execution_count": 26,
     "metadata": {},
     "output_type": "execute_result"
    }
   ],
   "source": [
    "apple.info"
   ]
  },
  {
   "cell_type": "markdown",
   "id": "f46b86ca-27ef-4d73-918e-80f256d2d90d",
   "metadata": {},
   "source": [
    "### Extracting Share Price\n",
    "A share is the single smallest part of a company's stock that you can buy, the prices of these shares fluctuate over time. Using the **history()** method we can get the share price of the stock over a certain period of time. Using the period parameter we can set how far back from the present to get data. The options for period are 1 day (1d), 5d, 1 month (1mo) , 3mo, 6mo, 1 year (1y), 2y, 5y, 10y, ytd, and max."
   ]
  },
  {
   "cell_type": "code",
   "execution_count": 33,
   "id": "be091e4c-79b1-4776-84dc-eea39c3ec763",
   "metadata": {},
   "outputs": [
    {
     "name": "stdout",
     "output_type": "stream",
     "text": [
      "                                 Open        High         Low       Close  \\\n",
      "Date                                                                        \n",
      "1980-12-12 00:00:00-05:00    0.098726    0.099155    0.098726    0.098726   \n",
      "1980-12-15 00:00:00-05:00    0.094005    0.094005    0.093575    0.093575   \n",
      "1980-12-16 00:00:00-05:00    0.087136    0.087136    0.086707    0.086707   \n",
      "1980-12-17 00:00:00-05:00    0.088853    0.089282    0.088853    0.088853   \n",
      "1980-12-18 00:00:00-05:00    0.091429    0.091858    0.091429    0.091429   \n",
      "...                               ...         ...         ...         ...   \n",
      "2025-03-05 00:00:00-05:00  235.419998  236.550003  229.229996  235.740005   \n",
      "2025-03-06 00:00:00-05:00  234.440002  237.860001  233.160004  235.330002   \n",
      "2025-03-07 00:00:00-05:00  235.110001  241.369995  234.759995  239.070007   \n",
      "2025-03-10 00:00:00-04:00  235.539993  236.160004  224.220001  227.479996   \n",
      "2025-03-11 00:00:00-04:00  223.800003  225.839905  217.449997  221.100006   \n",
      "\n",
      "                              Volume  Dividends  Stock Splits  \n",
      "Date                                                           \n",
      "1980-12-12 00:00:00-05:00  469033600        0.0           0.0  \n",
      "1980-12-15 00:00:00-05:00  175884800        0.0           0.0  \n",
      "1980-12-16 00:00:00-05:00  105728000        0.0           0.0  \n",
      "1980-12-17 00:00:00-05:00   86441600        0.0           0.0  \n",
      "1980-12-18 00:00:00-05:00   73449600        0.0           0.0  \n",
      "...                              ...        ...           ...  \n",
      "2025-03-05 00:00:00-05:00   47227600        0.0           0.0  \n",
      "2025-03-06 00:00:00-05:00   45170400        0.0           0.0  \n",
      "2025-03-07 00:00:00-05:00   46273600        0.0           0.0  \n",
      "2025-03-10 00:00:00-04:00   72071200        0.0           0.0  \n",
      "2025-03-11 00:00:00-04:00   59666022        0.0           0.0  \n",
      "\n",
      "[11151 rows x 7 columns]\n"
     ]
    }
   ],
   "source": [
    "apple_share_price_data = apple.history(period=\"max\")\n",
    "print(apple_share_price_data)"
   ]
  },
  {
   "cell_type": "code",
   "execution_count": 37,
   "id": "0a18553e-fee3-4a01-a20a-77087cf6977e",
   "metadata": {},
   "outputs": [
    {
     "data": {
      "text/html": [
       "<div>\n",
       "<style scoped>\n",
       "    .dataframe tbody tr th:only-of-type {\n",
       "        vertical-align: middle;\n",
       "    }\n",
       "\n",
       "    .dataframe tbody tr th {\n",
       "        vertical-align: top;\n",
       "    }\n",
       "\n",
       "    .dataframe thead th {\n",
       "        text-align: right;\n",
       "    }\n",
       "</style>\n",
       "<table border=\"1\" class=\"dataframe\">\n",
       "  <thead>\n",
       "    <tr style=\"text-align: right;\">\n",
       "      <th></th>\n",
       "      <th>Open</th>\n",
       "      <th>High</th>\n",
       "      <th>Low</th>\n",
       "      <th>Close</th>\n",
       "      <th>Volume</th>\n",
       "      <th>Dividends</th>\n",
       "      <th>Stock Splits</th>\n",
       "    </tr>\n",
       "    <tr>\n",
       "      <th>Date</th>\n",
       "      <th></th>\n",
       "      <th></th>\n",
       "      <th></th>\n",
       "      <th></th>\n",
       "      <th></th>\n",
       "      <th></th>\n",
       "      <th></th>\n",
       "    </tr>\n",
       "  </thead>\n",
       "  <tbody>\n",
       "    <tr>\n",
       "      <th>1980-12-12 00:00:00-05:00</th>\n",
       "      <td>0.098726</td>\n",
       "      <td>0.099155</td>\n",
       "      <td>0.098726</td>\n",
       "      <td>0.098726</td>\n",
       "      <td>469033600</td>\n",
       "      <td>0.0</td>\n",
       "      <td>0.0</td>\n",
       "    </tr>\n",
       "    <tr>\n",
       "      <th>1980-12-15 00:00:00-05:00</th>\n",
       "      <td>0.094005</td>\n",
       "      <td>0.094005</td>\n",
       "      <td>0.093575</td>\n",
       "      <td>0.093575</td>\n",
       "      <td>175884800</td>\n",
       "      <td>0.0</td>\n",
       "      <td>0.0</td>\n",
       "    </tr>\n",
       "    <tr>\n",
       "      <th>1980-12-16 00:00:00-05:00</th>\n",
       "      <td>0.087136</td>\n",
       "      <td>0.087136</td>\n",
       "      <td>0.086707</td>\n",
       "      <td>0.086707</td>\n",
       "      <td>105728000</td>\n",
       "      <td>0.0</td>\n",
       "      <td>0.0</td>\n",
       "    </tr>\n",
       "    <tr>\n",
       "      <th>1980-12-17 00:00:00-05:00</th>\n",
       "      <td>0.088853</td>\n",
       "      <td>0.089282</td>\n",
       "      <td>0.088853</td>\n",
       "      <td>0.088853</td>\n",
       "      <td>86441600</td>\n",
       "      <td>0.0</td>\n",
       "      <td>0.0</td>\n",
       "    </tr>\n",
       "    <tr>\n",
       "      <th>1980-12-18 00:00:00-05:00</th>\n",
       "      <td>0.091429</td>\n",
       "      <td>0.091858</td>\n",
       "      <td>0.091429</td>\n",
       "      <td>0.091429</td>\n",
       "      <td>73449600</td>\n",
       "      <td>0.0</td>\n",
       "      <td>0.0</td>\n",
       "    </tr>\n",
       "  </tbody>\n",
       "</table>\n",
       "</div>"
      ],
      "text/plain": [
       "                               Open      High       Low     Close     Volume  \\\n",
       "Date                                                                           \n",
       "1980-12-12 00:00:00-05:00  0.098726  0.099155  0.098726  0.098726  469033600   \n",
       "1980-12-15 00:00:00-05:00  0.094005  0.094005  0.093575  0.093575  175884800   \n",
       "1980-12-16 00:00:00-05:00  0.087136  0.087136  0.086707  0.086707  105728000   \n",
       "1980-12-17 00:00:00-05:00  0.088853  0.089282  0.088853  0.088853   86441600   \n",
       "1980-12-18 00:00:00-05:00  0.091429  0.091858  0.091429  0.091429   73449600   \n",
       "\n",
       "                           Dividends  Stock Splits  \n",
       "Date                                                \n",
       "1980-12-12 00:00:00-05:00        0.0           0.0  \n",
       "1980-12-15 00:00:00-05:00        0.0           0.0  \n",
       "1980-12-16 00:00:00-05:00        0.0           0.0  \n",
       "1980-12-17 00:00:00-05:00        0.0           0.0  \n",
       "1980-12-18 00:00:00-05:00        0.0           0.0  "
      ]
     },
     "execution_count": 37,
     "metadata": {},
     "output_type": "execute_result"
    }
   ],
   "source": [
    "# See how the format returned is a Pandas DataFrames\n",
    "apple_share_price_data.head()"
   ]
  },
  {
   "cell_type": "code",
   "execution_count": 41,
   "id": "342e0786-cb8b-4f6f-a33a-5d2d87c29625",
   "metadata": {},
   "outputs": [],
   "source": [
    "# We reset the index of the DataFrame with the reset_index function. We also set the inplace parameter to True so that the change takes place in the DataFrame itself.\n",
    "apple_share_price_data.reset_index(inplace=True)"
   ]
  },
  {
   "cell_type": "code",
   "execution_count": 43,
   "id": "fae141dd-5fcd-4e04-bb94-8783a4396ba9",
   "metadata": {},
   "outputs": [
    {
     "data": {
      "text/plain": [
       "<Axes: xlabel='Date'>"
      ]
     },
     "execution_count": 43,
     "metadata": {},
     "output_type": "execute_result"
    },
    {
     "data": {
      "image/png": "[encoded data removed]",
      "text/plain": [
       "<Figure size 640x480 with 1 Axes>"
      ]
     },
     "metadata": {},
     "output_type": "display_data"
    }
   ],
   "source": [
    "# Let's plot the historical value of the stock at the open \n",
    "apple_share_price_data.plot(x=\"Date\", y=\"Open\")"
   ]
  },
  {
   "cell_type": "markdown",
   "id": "27f78a07-18e3-4f1d-8492-9027a1cbe6d4",
   "metadata": {},
   "source": [
    " ### Extracting \n",
    "Dividends are the distribution of a companys profits to shareholders. In this case they are defined as an amount of money returned per share an investor owns. Using the variable **dividends** we can get a dataframe of the data. The period of the data is given by the period defined in the **history** function."
   ]
  },
  {
   "cell_type": "code",
   "execution_count": 46,
   "id": "e3583d71-2689-4549-abd2-fcb581237507",
   "metadata": {},
   "outputs": [
    {
     "data": {
      "text/plain": [
       "Date\n",
       "1987-05-11 00:00:00-04:00    0.000536\n",
       "1987-08-10 00:00:00-04:00    0.000536\n",
       "1987-11-17 00:00:00-05:00    0.000714\n",
       "1988-02-12 00:00:00-05:00    0.000714\n",
       "1988-05-16 00:00:00-04:00    0.000714\n",
       "                               ...   \n",
       "2024-02-09 00:00:00-05:00    0.240000\n",
       "2024-05-10 00:00:00-04:00    0.250000\n",
       "2024-08-12 00:00:00-04:00    0.250000\n",
       "2024-11-08 00:00:00-05:00    0.250000\n",
       "2025-02-10 00:00:00-05:00    0.250000\n",
       "Name: Dividends, Length: 86, dtype: float64"
      ]
     },
     "execution_count": 46,
     "metadata": {},
     "output_type": "execute_result"
    }
   ],
   "source": [
    "apple.dividends"
   ]
  },
  {
   "cell_type": "code",
   "execution_count": 48,
   "id": "f6d837b6-c967-4783-a335-55f9afffcf76",
   "metadata": {},
   "outputs": [
    {
     "data": {
      "text/plain": [
       "<Axes: xlabel='Date'>"
      ]
     },
     "execution_count": 48,
     "metadata": {},
     "output_type": "execute_result"
    },
    {
     "data": {
      "image/png": "[encoded data removed]",
      "text/plain": [
       "<Figure size 640x480 with 1 Axes>"
      ]
     },
     "metadata": {},
     "output_type": "display_data"
    }
   ],
   "source": [
    "apple.dividends.plot()"
   ]
  },
  {
   "cell_type": "code",
   "execution_count": null,
   "id": "5e36b61f-dcb6-4162-97c6-9442f57e1a6a",
   "metadata": {},
   "outputs": [],
   "source": []
  }
 ],
 "metadata": {
  "kernelspec": {
   "display_name": "Python [conda env:base] *",
   "language": "python",
   "name": "conda-base-py"
  },
  "language_info": {
   "codemirror_mode": {
    "name": "ipython",
    "version": 3
   },
   "file_extension": ".py",
   "mimetype": "text/x-python",
   "name": "python",
   "nbconvert_exporter": "python",
   "pygments_lexer": "ipython3",
   "version": "3.12.7"
  }
 },
 "nbformat": 4,
 "nbformat_minor": 5
}
